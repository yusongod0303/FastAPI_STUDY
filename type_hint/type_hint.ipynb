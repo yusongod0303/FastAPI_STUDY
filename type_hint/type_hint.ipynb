{
 "cells": [
  {
   "cell_type": "markdown",
   "metadata": {},
   "source": [
    "- fist_name, last_name -> title() 로 첫글자 대문자로 변환"
   ]
  },
  {
   "cell_type": "code",
   "execution_count": 1,
   "metadata": {},
   "outputs": [
    {
     "name": "stdout",
     "output_type": "stream",
     "text": [
      "John Doe\n"
     ]
    }
   ],
   "source": [
    "def get_full_name(first_name, last_name):\n",
    "    full_name = first_name.title() + \" \" + last_name.title()\n",
    "    return full_name\n",
    "\n",
    "print(get_full_name(\"john\", \"doe\"))"
   ]
  },
  {
   "cell_type": "markdown",
   "metadata": {},
   "source": [
    "### 타입 힌트\n",
    "\n",
    "- 함수를 작성할때 타입힌트를 정해주고 입력시 코드 작성할때 함수 관련 자동완성이 제공됨\n",
    "- 실행 전 에러에 대해서도 확인할 수 있음"
   ]
  },
  {
   "cell_type": "code",
   "execution_count": 2,
   "metadata": {},
   "outputs": [
    {
     "name": "stdout",
     "output_type": "stream",
     "text": [
      "John Doe\n"
     ]
    }
   ],
   "source": [
    "def get_full_name(first_name : str, last_name : str):\n",
    "    full_name = first_name.title() + \" \" + last_name.title()\n",
    "    return full_name\n",
    "\n",
    "print(get_full_name(\"john\", \"doe\"))"
   ]
  },
  {
   "cell_type": "markdown",
   "metadata": {},
   "source": [
    "### 타입 매개변수를 활용한 Generic(제네릭) 타입\n",
    "\n",
    "- dict, list, set, tuple 과 같은 값을 저장할 수 있는 데이터 구조는 내부의 값을 각자의 타입을 가질 수 있음\n",
    "- 타입과 내부 타입을 선언하기 위해서는 파이썬 표준 모델인 typing 이용\n",
    "\n",
    "\n",
    "- 대괄호 안에 내부는 \"타입 매개변수\"라고 함"
   ]
  },
  {
   "cell_type": "code",
   "execution_count": 4,
   "metadata": {},
   "outputs": [
    {
     "data": {
      "text/plain": [
       "<function __main__.process_items(items: List[str])>"
      ]
     },
     "execution_count": 4,
     "metadata": {},
     "output_type": "execute_result"
    }
   ],
   "source": [
    "from typing import List\n",
    "\n",
    "def process_items(items : List[str]):\n",
    "    for item in items:\n",
    "        print (item)\n",
    "\n",
    "process_items"
   ]
  },
  {
   "cell_type": "markdown",
   "metadata": {},
   "source": [
    "#### process_items_2\n",
    "\n",
    "- items_t는 차례대로, int, int, str인 tuple이다.\n",
    "- items_s 는 각 아이템이 bytes인 set이다."
   ]
  },
  {
   "cell_type": "code",
   "execution_count": 7,
   "metadata": {},
   "outputs": [],
   "source": [
    "from typing import Set, Tuple\n",
    "\n",
    "def process_items_2(items_t: Tuple[int, int, str], items_s : Set[bytes]):\n",
    "    return items_t, items_s"
   ]
  },
  {
   "cell_type": "code",
   "execution_count": 8,
   "metadata": {},
   "outputs": [],
   "source": [
    "#### Dict 2개 매개변수 표현\n",
    "\n",
    "from typing import Dict\n",
    "\n",
    "def process_items_dict(prices : Dict[str, float]):\n",
    "    for item_name, item_price in prices.items():\n",
    "        print(item_name)\n",
    "        print(item_price)"
   ]
  },
  {
   "cell_type": "markdown",
   "metadata": {},
   "source": [
    "#### 선택적 타입힌트 -> Optional\n",
    "\n",
    "str과 같이 타입을 선언할때 Optinal을 쓸 수도 있는데, \"선택적\"이기 때문에 None이 될 수 도 있음"
   ]
  },
  {
   "cell_type": "code",
   "execution_count": null,
   "metadata": {},
   "outputs": [
    {
     "data": {
      "text/plain": [
       "<function __main__.say_hi(name: Optional[str] = None)>"
      ]
     },
     "execution_count": 10,
     "metadata": {},
     "output_type": "execute_result"
    }
   ],
   "source": [
    "from typing import Optional\n",
    "\n",
    "def say_hi(name: Optional[str] = None):\n",
    "    if name is not None:\n",
    "        print(f\"{name}!\")\n",
    "    else:\n",
    "        print(\"hi\")"
   ]
  },
  {
   "cell_type": "markdown",
   "metadata": {},
   "source": [
    "## 타입으로서의 클래스\n",
    "\n",
    "변수의 타입으로 클래스 선언"
   ]
  },
  {
   "cell_type": "code",
   "execution_count": 13,
   "metadata": {},
   "outputs": [],
   "source": [
    "class Person:\n",
    "    def __init__(self, name: str):\n",
    "        self.name = name\n",
    "\n",
    "\n",
    "def get_person_name(one_person: Person):\n",
    "    return one_person.name"
   ]
  },
  {
   "cell_type": "markdown",
   "metadata": {},
   "source": [
    "## Pydantic 모델\n",
    "\n",
    "데이터 검증을 위한 파이썬 라이브러리로 속성들을 포함한 클래스 형태로 \"모양\"을 선언할 수 있음 !!\n",
    "\n",
    "- 속성들을 포함한 클래스 형태로 \"모양\"을 선언할 수 있음\n",
    "- 클래스를 활용해서 값을 가지고 있는 인스턴스를 만들게 되면, 필요한 경우에는 적당한 타입으로 변환까지 시키기도 하여 데이터가 포함된 객체를 반환함\n",
    "- 객체에 대해서는 에디터의 도움을 받을 수 있게 됨\n",
    "\n",
    "FastAPI는 모두 Pydantic을 기반으로 구성되어 있음 !!"
   ]
  },
  {
   "cell_type": "code",
   "execution_count": 16,
   "metadata": {},
   "outputs": [
    {
     "name": "stdout",
     "output_type": "stream",
     "text": [
      "id=123 name='John Doe' signup_ts=datetime.datetime(2017, 6, 1, 12, 22) friends=[1, 2, 3]\n",
      "123\n"
     ]
    }
   ],
   "source": [
    "from datetime import datetime\n",
    "from typing import List, Union\n",
    "\n",
    "from pydantic import BaseModel\n",
    "\n",
    "class User(BaseModel):\n",
    "    id : int\n",
    "    name:str = \"John Doe\"\n",
    "    signup_ts : Union[datetime, None] = None\n",
    "    friends : List[int] = []\n",
    "\n",
    "\n",
    "external_data = {\n",
    "        \"id\" : \"123\",\n",
    "        \"signup_ts\" : \"2017-06-01 12:22\",\n",
    "        \"friends\" : [1, \"2\", b\"3\"],\n",
    "    }\n",
    "user = User(**external_data)\n",
    "print(user)\n",
    "print(user.id)"
   ]
  },
  {
   "cell_type": "markdown",
   "metadata": {},
   "source": [
    "# FastAPI에서의 타입 힌트\n",
    "\n",
    "FastAPI는 여러 부분에서의 타입 힌트의 장점을 취하고 있음\n",
    "\n",
    "FastAPI에서의 타입 힌트와 함께 매개변수를 선언하면 장점은\n",
    "- 에디터 도움\n",
    "- 타입 확인\n",
    "\n",
    "그리고 FastAPI는 같은 정의를 아래에도 적용한다.\n",
    "\n",
    "- 요구사항 정의 : 요청 경로 매개변수, 쿼리 매개변수, 헤더, 바디, 의존성 등..\n",
    "- 데이터 변환 : 요청에서 요구한 타입\n",
    "- 데이터 검증 : 각 요청마다\n",
    "     - 데이터가 유효하지 않은 경우에는 자동으로 에러를 발생\n",
    "- OpenAPI를 활용한 API 문서화\n",
    "     - 자동으로 상호작용하는 유저인터페이스에 쓰이게 됨\n",
    "     "
   ]
  },
  {
   "cell_type": "markdown",
   "metadata": {},
   "source": []
  }
 ],
 "metadata": {
  "kernelspec": {
   "display_name": "fastapi",
   "language": "python",
   "name": "python3"
  },
  "language_info": {
   "codemirror_mode": {
    "name": "ipython",
    "version": 3
   },
   "file_extension": ".py",
   "mimetype": "text/x-python",
   "name": "python",
   "nbconvert_exporter": "python",
   "pygments_lexer": "ipython3",
   "version": "3.11.13"
  }
 },
 "nbformat": 4,
 "nbformat_minor": 2
}
